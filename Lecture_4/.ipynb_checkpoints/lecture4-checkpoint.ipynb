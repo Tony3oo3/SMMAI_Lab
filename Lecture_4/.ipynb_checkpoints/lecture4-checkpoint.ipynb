{
 "cells": [
  {
   "cell_type": "code",
   "execution_count": null,
   "metadata": {},
   "outputs": [],
   "source": [
    "import numpy as np\n",
    "import matplotlib.pyplot as plt"
   ]
  },
  {
   "cell_type": "code",
   "execution_count": null,
   "metadata": {},
   "outputs": [],
   "source": [
    "# First task\n",
    "#   Implement the GD algorithm with the following parameters:\n",
    "def GD(f, grad_f, x0, tolf, tolx, kmax):\n",
    "    # As output, we want:\n",
    "    # x -> The stationary point\n",
    "    # f_val -> A vector containing the values of f during the iterations\n",
    "    # err_val -> A vector containing the values of ||grad_f(x_k)||"
   ]
  }
 ],
 "metadata": {
  "kernelspec": {
   "display_name": "Python 3 (ipykernel)",
   "language": "python",
   "name": "python3"
  },
  "language_info": {
   "codemirror_mode": {
    "name": "ipython",
    "version": 3
   },
   "file_extension": ".py",
   "mimetype": "text/x-python",
   "name": "python",
   "nbconvert_exporter": "python",
   "pygments_lexer": "ipython3",
   "version": "3.8.10"
  }
 },
 "nbformat": 4,
 "nbformat_minor": 2
}
