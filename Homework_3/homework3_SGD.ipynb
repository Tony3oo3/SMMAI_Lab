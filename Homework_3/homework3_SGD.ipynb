{
 "cells": [
  {
   "cell_type": "markdown",
   "metadata": {},
   "source": [
    "# Homework 3\n",
    "### Optimization with Stochastic Gradient Descent"
   ]
  },
  {
   "cell_type": "code",
   "execution_count": 10,
   "metadata": {},
   "outputs": [],
   "source": [
    "import numpy as np\n",
    "import matplotlib.pylab as plt\n",
    "\n",
    "from math import ceil"
   ]
  },
  {
   "cell_type": "code",
   "execution_count": 11,
   "metadata": {},
   "outputs": [],
   "source": [
    "def SGD(l, grad_l, w0, data, batch_size, n_epochs, alpha=0.01):\n",
    "    \"\"\"\n",
    "        Arguments:\n",
    "            l: the function l(w; D) we want to optimize. It is supposed to be a Python function, not an array.\n",
    "            grad_l: the gradient of l(w; D). It is supposed to be a Python function, not an array.\n",
    "            w0: an n-dimensional array which represents the initial iterate. By default, it should be randomly sampled.\n",
    "            data: a tuple (x, y) that contains the two arrays x and y, where x is the input data, y is the output data.\n",
    "            batch_size: an integer. The dimension of each batch. Should be a divisor of the number of data.\n",
    "            n_epochs: an integer. The number of epochs you want to repeat the iterations.\n",
    "        Returns:\n",
    "            w: an array that contains the value of w_k FOR EACH iterate w_k (not only the latter).\n",
    "            f_val: an array that contains the value of l(w_k; data) FOR EACH iterate w_k ONLY after each epoch.\n",
    "            grads: an array that contains the value of grad_l(w_k; data) FOR EACH iterate w_k ONLY after each epoch.\n",
    "            err: an array the contains the value of ||grad_l(w_k; data)||_2 FOR EACH iterate w_k ONLY after each epoch.\n",
    "    \"\"\"\n",
    "    X, Y = data\n",
    "    d, N = X.shape\n",
    "\n",
    "    # number of epochs * iterations per epoch\n",
    "    tot_iterations = ceil(n_epochs * ceil(N / batch_size))\n",
    "\n",
    "    w = np.zeros(tot_iterations + 1, dtype=object)\n",
    "    f_val = np.zeros(n_epochs, dtype=object)\n",
    "    grads = np.zeros(n_epochs, dtype=object)\n",
    "    err = np.zeros(n_epochs, dtype=object)\n",
    "\n",
    "    w[0] = w0\n",
    "    k = 0\n",
    "\n",
    "    for epoch in range(n_epochs):\n",
    "        print(f\"--> Epoch {epoch}\")\n",
    "\n",
    "        # Shuffle the dataset\n",
    "        rng = np.random.default_rng()\n",
    "        D = np.concatenate((Y, X.T), axis=1)\n",
    "        rng.shuffle(D)\n",
    "        X = D[:, 1:].T\n",
    "        Y = D[:, 0].reshape(-1, 1)\n",
    "        \n",
    "        batches_num = ceil(N / batch_size)\n",
    "        for batch in range(batches_num):\n",
    "            # print(f\"\\tBatch {batch}\")\n",
    "            Mx = X[:, batch*batch_size:(batch+1)*batch_size]\n",
    "            My = Y[batch*batch_size:(batch+1)*batch_size]\n",
    "            M = (Mx, My)\n",
    "            # Gradient descent step\n",
    "            k = (epoch * batches_num) + batch\n",
    "            w[k+1] = w[k] - alpha * grad_l(w[k], M) \n",
    "\n",
    "        f_val[epoch] = l(w[k+1], data)\n",
    "        grads[epoch] = grad_l(w[k+1], data)\n",
    "        \n",
    "        err[epoch] = np.linalg.norm(grads[epoch])\n",
    "        print(err[epoch])\n",
    "    \n",
    "    return w, f_val, grads, err"
   ]
  },
  {
   "cell_type": "code",
   "execution_count": 12,
   "metadata": {},
   "outputs": [
    {
     "data": {
      "text/plain": [
       "((42000, 784), (42000,))"
      ]
     },
     "execution_count": 12,
     "metadata": {},
     "output_type": "execute_result"
    }
   ],
   "source": [
    "\n",
    "# Load MINST dataset\n",
    "import pandas as pd\n",
    "df = pd.read_csv(\"../data/data.csv\")\n",
    "data_raw = np.array(df)\n",
    "X_raw = data_raw[:, 1:]\n",
    "y_raw = data_raw[:, 0]\n",
    "X_raw.shape, y_raw.shape"
   ]
  },
  {
   "cell_type": "code",
   "execution_count": 13,
   "metadata": {},
   "outputs": [
    {
     "data": {
      "text/plain": [
       "((8320, 784), (8320,))"
      ]
     },
     "execution_count": 13,
     "metadata": {},
     "output_type": "execute_result"
    }
   ],
   "source": [
    "digit_list = [0, 9]\n",
    "\n",
    "mask = [y_i in digit_list for y_i in y_raw]\n",
    "y = y_raw[mask]\n",
    "X = X_raw[mask, :]\n",
    "X.shape, y.shape"
   ]
  },
  {
   "cell_type": "code",
   "execution_count": 14,
   "metadata": {},
   "outputs": [
    {
     "data": {
      "text/plain": [
       "((784, 6656), (784, 1664), (6656, 1), (1664, 1))"
      ]
     },
     "execution_count": 14,
     "metadata": {},
     "output_type": "execute_result"
    }
   ],
   "source": [
    "from sklearn.model_selection import train_test_split\n",
    "\n",
    "X_train, X_test, y_train, y_test = train_test_split(X, y, train_size=0.8, shuffle=False)\n",
    "X_train = X_train.T\n",
    "X_test = X_test.T\n",
    "y_train = y_train.reshape((-1, 1))\n",
    "y_test = y_test.reshape((-1, 1))\n",
    "X_train.shape, X_test.shape, y_train.shape, y_test.shape"
   ]
  },
  {
   "cell_type": "code",
   "execution_count": 15,
   "metadata": {},
   "outputs": [],
   "source": [
    "def sigmoid(x):\n",
    "    return 1./(1.+np.exp(-x))\n",
    "\n",
    "def der_sigmoid(x):\n",
    "    return sigmoid(x) * (1 - sigmoid(x))"
   ]
  },
  {
   "cell_type": "code",
   "execution_count": 16,
   "metadata": {},
   "outputs": [],
   "source": [
    "def l(w, D):\n",
    "    X, y = D\n",
    "    d, N = X.shape\n",
    "    return np.sum(np.power(np.linalg.norm(sigmoid(X.T @ w) - y, axis=1), 2))/N\n",
    "\n",
    "def grad_l(w, D):\n",
    "    X, y = D\n",
    "    d, N = X.shape\n",
    "    der = der_sigmoid(X.T @ w)\n",
    "    res = der * X.T * (sigmoid(X.T @ w) - y)\n",
    "    temp = (2*np.sum(res, axis=0)/N).reshape((-1,1))\n",
    "    return temp\n",
    "\n",
    "def grad_l2(w, D):\n",
    "    X, y = D\n",
    "    d, N = X.shape\n",
    "    def grad_step(arg):\n",
    "        x_i, y_i = (arg[1:], arg[:1])\n",
    "        res_step = der_sigmoid(x_i.T @ w) * x_i.T * (sigmoid(x_i.T @ w) - y_i)\n",
    "        return res_step\n",
    "    full_D = np.concatenate((y.T, X), axis=0)\n",
    "    tmp = np.apply_along_axis(grad_step, 0, full_D)\n",
    "    res = np.sum(tmp, axis=1) / N\n",
    "    return res.reshape((-1,1))\n",
    "\n"
   ]
  },
  {
   "cell_type": "code",
   "execution_count": 17,
   "metadata": {},
   "outputs": [],
   "source": [
    "# init weights\n",
    "rng = np.random.default_rng()\n",
    "w0 = rng.normal(size=(X_train.shape[0] + 1, 1))\n",
    "X_hat = np.concatenate((np.ones((1, X_train.shape[1])), X_train), axis=0)"
   ]
  },
  {
   "cell_type": "code",
   "execution_count": 41,
   "metadata": {},
   "outputs": [
    {
     "name": "stdout",
     "output_type": "stream",
     "text": [
      "--> Epoch 0\n"
     ]
    },
    {
     "name": "stderr",
     "output_type": "stream",
     "text": [
      "/var/folders/m9/2qy1g_cd5mjcg_cqty8ydzq00000gn/T/ipykernel_8390/1431357966.py:2: RuntimeWarning: overflow encountered in exp\n",
      "  return 1./(1.+np.exp(-x))\n"
     ]
    },
    {
     "name": "stdout",
     "output_type": "stream",
     "text": [
      "0.6716059482169536\n",
      "--> Epoch 1\n",
      "0.717436354518143\n",
      "--> Epoch 2\n",
      "1.2293018695390698\n",
      "--> Epoch 3\n",
      "0.0006659519686623545\n",
      "--> Epoch 4\n",
      "0.0009871104941986855\n",
      "--> Epoch 5\n",
      "0.0019401657964956257\n",
      "--> Epoch 6\n",
      "0.008685510794458073\n",
      "--> Epoch 7\n",
      "0.4193263379998598\n",
      "--> Epoch 8\n",
      "0.9643805968845511\n",
      "--> Epoch 9\n",
      "0.03236956745532475\n",
      "--> Epoch 10\n",
      "0.003926360725691207\n",
      "--> Epoch 11\n",
      "0.004449479642892246\n",
      "--> Epoch 12\n",
      "0.07391600961568243\n",
      "--> Epoch 13\n",
      "0.5871546845679799\n",
      "--> Epoch 14\n",
      "5.64748949848178e-06\n",
      "--> Epoch 15\n",
      "5.6269082506932596e-06\n",
      "--> Epoch 16\n",
      "5.60647663535975e-06\n",
      "--> Epoch 17\n",
      "5.586193048016402e-06\n",
      "--> Epoch 18\n",
      "5.566055907119603e-06\n",
      "--> Epoch 19\n",
      "5.546063587458663e-06\n",
      "--> Epoch 20\n",
      "5.526214553506478e-06\n",
      "--> Epoch 21\n",
      "5.506507269050566e-06\n",
      "--> Epoch 22\n",
      "5.486940220021209e-06\n",
      "--> Epoch 23\n",
      "5.467511937237023e-06\n",
      "--> Epoch 24\n",
      "5.4482209035236806e-06\n",
      "--> Epoch 25\n",
      "5.429065713790905e-06\n",
      "--> Epoch 26\n",
      "5.410044861577304e-06\n",
      "--> Epoch 27\n",
      "5.391157022698709e-06\n",
      "--> Epoch 28\n",
      "5.37240072233586e-06\n",
      "--> Epoch 29\n",
      "5.35377469451265e-06\n",
      "--> Epoch 30\n",
      "5.335277503248953e-06\n",
      "--> Epoch 31\n",
      "5.316907825652521e-06\n",
      "--> Epoch 32\n",
      "5.298664417880878e-06\n",
      "--> Epoch 33\n",
      "5.2805458817569455e-06\n",
      "--> Epoch 34\n",
      "5.262551059076407e-06\n",
      "--> Epoch 35\n",
      "5.244678616117644e-06\n",
      "--> Epoch 36\n",
      "5.2269273082544574e-06\n",
      "--> Epoch 37\n",
      "5.2092958594545574e-06\n",
      "--> Epoch 38\n",
      "5.191783086604181e-06\n",
      "--> Epoch 39\n",
      "5.174387882177322e-06\n",
      "--> Epoch 40\n",
      "5.157108999121784e-06\n",
      "--> Epoch 41\n",
      "5.139945207081558e-06\n",
      "--> Epoch 42\n",
      "5.122895491177824e-06\n",
      "--> Epoch 43\n",
      "5.105958586970102e-06\n",
      "--> Epoch 44\n",
      "5.089133442899995e-06\n",
      "--> Epoch 45\n",
      "5.072418975224651e-06\n",
      "--> Epoch 46\n",
      "5.0558140558415025e-06\n",
      "--> Epoch 47\n",
      "5.0393176495289265e-06\n",
      "--> Epoch 48\n",
      "5.022928656988499e-06\n",
      "--> Epoch 49\n",
      "5.006646113673935e-06\n",
      "--> Epoch 50\n",
      "4.9904689233894615e-06\n",
      "--> Epoch 51\n",
      "4.9743960046422615e-06\n",
      "--> Epoch 52\n",
      "4.9584264123558186e-06\n",
      "--> Epoch 53\n",
      "4.9425590911798936e-06\n",
      "--> Epoch 54\n",
      "4.92679322765614e-06\n",
      "--> Epoch 55\n",
      "4.9111277473989875e-06\n",
      "--> Epoch 56\n",
      "4.89556171328135e-06\n",
      "--> Epoch 57\n",
      "4.8800941621476275e-06\n",
      "--> Epoch 58\n",
      "4.864724103936552e-06\n",
      "--> Epoch 59\n",
      "4.84945059808983e-06\n",
      "--> Epoch 60\n",
      "4.834272951453757e-06\n",
      "--> Epoch 61\n",
      "4.8191900898195725e-06\n",
      "--> Epoch 62\n",
      "4.804201205652164e-06\n",
      "--> Epoch 63\n",
      "4.7893053458989834e-06\n",
      "--> Epoch 64\n",
      "4.774501704674864e-06\n",
      "--> Epoch 65\n",
      "4.759789425716338e-06\n",
      "--> Epoch 66\n",
      "4.745167593094983e-06\n",
      "--> Epoch 67\n",
      "4.730635483690512e-06\n",
      "--> Epoch 68\n",
      "4.7161922199752175e-06\n",
      "--> Epoch 69\n",
      "4.7018369715703784e-06\n",
      "--> Epoch 70\n",
      "4.687568916990055e-06\n",
      "--> Epoch 71\n",
      "4.67338733640865e-06\n",
      "--> Epoch 72\n",
      "4.659291409730773e-06\n",
      "--> Epoch 73\n",
      "4.6452803621052124e-06\n",
      "--> Epoch 74\n",
      "4.631350495520743e-06\n",
      "--> Epoch 75\n",
      "4.617506940696035e-06\n",
      "--> Epoch 76\n",
      "4.6037459631115115e-06\n",
      "--> Epoch 77\n",
      "4.590066878481551e-06\n",
      "--> Epoch 78\n",
      "4.576468958419202e-06\n",
      "--> Epoch 79\n",
      "4.562951446304662e-06\n",
      "--> Epoch 80\n",
      "4.549513632001393e-06\n",
      "--> Epoch 81\n",
      "4.536154829401259e-06\n",
      "--> Epoch 82\n",
      "4.522874343144714e-06\n",
      "--> Epoch 83\n",
      "4.509671502348259e-06\n",
      "--> Epoch 84\n",
      "4.496545643581082e-06\n",
      "--> Epoch 85\n",
      "4.483496015511229e-06\n",
      "--> Epoch 86\n",
      "4.470522019396236e-06\n",
      "--> Epoch 87\n",
      "4.45762299855703e-06\n",
      "--> Epoch 88\n",
      "4.4447982582223246e-06\n",
      "--> Epoch 89\n",
      "4.432047226563722e-06\n",
      "--> Epoch 90\n",
      "4.419369226818136e-06\n",
      "--> Epoch 91\n",
      "4.406763638531581e-06\n",
      "--> Epoch 92\n",
      "4.394229812703102e-06\n",
      "--> Epoch 93\n",
      "4.381767198869275e-06\n",
      "--> Epoch 94\n",
      "4.369375131241907e-06\n",
      "--> Epoch 95\n",
      "4.35705304222757e-06\n",
      "--> Epoch 96\n",
      "4.344800386108894e-06\n",
      "--> Epoch 97\n",
      "4.332616515366039e-06\n",
      "--> Epoch 98\n",
      "4.320500855375744e-06\n",
      "--> Epoch 99\n",
      "4.3084528767866514e-06\n"
     ]
    }
   ],
   "source": [
    "n_epochs = 100\n",
    "batch_size = 100\n",
    "w, f_val, grads, err = SGD(l, grad_l2, w0, (X_hat, y_train), batch_size, n_epochs, alpha=0.005)"
   ]
  },
  {
   "cell_type": "code",
   "execution_count": 42,
   "metadata": {},
   "outputs": [
    {
     "data": {
      "text/plain": [
       "[<matplotlib.lines.Line2D at 0x179b75ea0>]"
      ]
     },
     "execution_count": 42,
     "metadata": {},
     "output_type": "execute_result"
    },
    {
     "data": {
      "image/png": "[encoded data removed]",
      "text/plain": [
       "<Figure size 640x480 with 1 Axes>"
      ]
     },
     "metadata": {},
     "output_type": "display_data"
    }
   ],
   "source": [
    "plt.plot([x for x in range(1, n_epochs + 1)], err)"
   ]
  },
  {
   "cell_type": "code",
   "execution_count": 43,
   "metadata": {},
   "outputs": [
    {
     "name": "stderr",
     "output_type": "stream",
     "text": [
      "/var/folders/m9/2qy1g_cd5mjcg_cqty8ydzq00000gn/T/ipykernel_8390/1431357966.py:2: RuntimeWarning: overflow encountered in exp\n",
      "  return 1./(1.+np.exp(-x))\n"
     ]
    }
   ],
   "source": [
    "X_test_hat = np.concatenate((np.ones((1, X_test.shape[1])), X_test), axis=0)\n",
    "predictions = sigmoid(X_test_hat.T @ w[-1])\n",
    "y_predicted = np.apply_along_axis(lambda x: 9 if x < 0.5 else 0, 1, predictions).reshape((-1,1))"
   ]
  },
  {
   "cell_type": "code",
   "execution_count": 44,
   "metadata": {},
   "outputs": [],
   "source": [
    "def compute_accuracy(y_true, y_guess):\n",
    "    return (len(y_true) - np.count_nonzero(y_true - y_guess)) / len(y_true) * 100"
   ]
  },
  {
   "cell_type": "code",
   "execution_count": 45,
   "metadata": {},
   "outputs": [
    {
     "data": {
      "text/plain": [
       "52.58413461538461"
      ]
     },
     "execution_count": 45,
     "metadata": {},
     "output_type": "execute_result"
    }
   ],
   "source": [
    "compute_accuracy(y_predicted, y_test)"
   ]
  },
  {
   "cell_type": "code",
   "execution_count": 23,
   "metadata": {},
   "outputs": [],
   "source": [
    "def GD_log_reg(f, grad_f, w0, D, tolf, tolx, kmax, alpha=0.1):\n",
    "    # As output, we want:\n",
    "    # x -> The stationary point\n",
    "    # f_val -> A vector containing the values of f during the iterations\n",
    "    # err_val -> A vector containing the values of ||grad_f(x_k)||\n",
    "\n",
    "    f_val = [f(w0, D)]\n",
    "    err_val = [grad_f(w0, D)]\n",
    "    \n",
    "    # Init iteration\n",
    "    k = 0\n",
    "    x = [w0]\n",
    "    \n",
    "    rel_tol_cond = True\n",
    "    rel_inp_cond = True\n",
    "    max_it_cond = True\n",
    "    \n",
    "    while rel_tol_cond and rel_inp_cond and max_it_cond:\n",
    "        x.append(x[k] - alpha * grad_f(x[k], D))\n",
    "        f_val.append(f(x[k+1], D))\n",
    "        err_val.append(np.linalg.norm(grad_f(x[k], D)))\n",
    "        \n",
    "        k += 1\n",
    "        if(k % 100 == 0): \n",
    "            print(f\"iteration: {k}\")\n",
    "            print(err_val[-1])\n",
    "\n",
    "        rel_tol_cond = np.linalg.norm(grad_f(x[k-1], D)) > tolf * np.linalg.norm(grad_f(w0, D))\n",
    "        # We skip the first iteration\n",
    "        rel_inp_cond = True if k == 0 else np.linalg.norm(x[k] - x[k-1]) > tolx\n",
    "        max_it_cond = k < kmax\n",
    "\n",
    "    return x[k], f_val, err_val"
   ]
  },
  {
   "cell_type": "code",
   "execution_count": 24,
   "metadata": {},
   "outputs": [
    {
     "name": "stderr",
     "output_type": "stream",
     "text": [
      "/var/folders/m9/2qy1g_cd5mjcg_cqty8ydzq00000gn/T/ipykernel_8390/1431357966.py:2: RuntimeWarning: overflow encountered in exp\n",
      "  return 1./(1.+np.exp(-x))\n"
     ]
    },
    {
     "ename": "KeyboardInterrupt",
     "evalue": "",
     "output_type": "error",
     "traceback": [
      "\u001b[0;31m---------------------------------------------------------------------------\u001b[0m",
      "\u001b[0;31mKeyboardInterrupt\u001b[0m                         Traceback (most recent call last)",
      "Cell \u001b[0;32mIn [24], line 1\u001b[0m\n\u001b[0;32m----> 1\u001b[0m res_gd \u001b[39m=\u001b[39m GD_log_reg(l, grad_l2, w0, (X_hat, y_train), \u001b[39m0.\u001b[39;49m, \u001b[39m0.\u001b[39;49m, \u001b[39m500\u001b[39;49m, alpha\u001b[39m=\u001b[39;49m\u001b[39m0.4\u001b[39;49m)\n\u001b[1;32m      2\u001b[0m w_k, f_val, err_val \u001b[39m=\u001b[39m res_gd\n",
      "Cell \u001b[0;32mIn [23], line 21\u001b[0m, in \u001b[0;36mGD_log_reg\u001b[0;34m(f, grad_f, w0, D, tolf, tolx, kmax, alpha)\u001b[0m\n\u001b[1;32m     19\u001b[0m x\u001b[39m.\u001b[39mappend(x[k] \u001b[39m-\u001b[39m alpha \u001b[39m*\u001b[39m grad_f(x[k], D))\n\u001b[1;32m     20\u001b[0m f_val\u001b[39m.\u001b[39mappend(f(x[k\u001b[39m+\u001b[39m\u001b[39m1\u001b[39m], D))\n\u001b[0;32m---> 21\u001b[0m err_val\u001b[39m.\u001b[39mappend(np\u001b[39m.\u001b[39mlinalg\u001b[39m.\u001b[39mnorm(grad_f(x[k], D)))\n\u001b[1;32m     23\u001b[0m k \u001b[39m+\u001b[39m\u001b[39m=\u001b[39m \u001b[39m1\u001b[39m\n\u001b[1;32m     24\u001b[0m \u001b[39mif\u001b[39;00m(k \u001b[39m%\u001b[39m \u001b[39m100\u001b[39m \u001b[39m==\u001b[39m \u001b[39m0\u001b[39m): \n",
      "Cell \u001b[0;32mIn [16], line 22\u001b[0m, in \u001b[0;36mgrad_l2\u001b[0;34m(w, D)\u001b[0m\n\u001b[1;32m     20\u001b[0m     \u001b[39mreturn\u001b[39;00m res_step\n\u001b[1;32m     21\u001b[0m full_D \u001b[39m=\u001b[39m np\u001b[39m.\u001b[39mconcatenate((y\u001b[39m.\u001b[39mT, X), axis\u001b[39m=\u001b[39m\u001b[39m0\u001b[39m)\n\u001b[0;32m---> 22\u001b[0m tmp \u001b[39m=\u001b[39m np\u001b[39m.\u001b[39;49mapply_along_axis(grad_step, \u001b[39m0\u001b[39;49m, full_D)\n\u001b[1;32m     23\u001b[0m res \u001b[39m=\u001b[39m np\u001b[39m.\u001b[39msum(tmp, axis\u001b[39m=\u001b[39m\u001b[39m1\u001b[39m) \u001b[39m/\u001b[39m N\n\u001b[1;32m     24\u001b[0m \u001b[39mreturn\u001b[39;00m res\u001b[39m.\u001b[39mreshape((\u001b[39m-\u001b[39m\u001b[39m1\u001b[39m,\u001b[39m1\u001b[39m))\n",
      "File \u001b[0;32m<__array_function__ internals>:180\u001b[0m, in \u001b[0;36mapply_along_axis\u001b[0;34m(*args, **kwargs)\u001b[0m\n",
      "File \u001b[0;32m/opt/homebrew/lib/python3.10/site-packages/numpy/lib/shape_base.py:402\u001b[0m, in \u001b[0;36mapply_along_axis\u001b[0;34m(func1d, axis, arr, *args, **kwargs)\u001b[0m\n\u001b[1;32m    400\u001b[0m buff[ind0] \u001b[39m=\u001b[39m res\n\u001b[1;32m    401\u001b[0m \u001b[39mfor\u001b[39;00m ind \u001b[39min\u001b[39;00m inds:\n\u001b[0;32m--> 402\u001b[0m     buff[ind] \u001b[39m=\u001b[39m asanyarray(func1d(inarr_view[ind], \u001b[39m*\u001b[39;49margs, \u001b[39m*\u001b[39;49m\u001b[39m*\u001b[39;49mkwargs))\n\u001b[1;32m    404\u001b[0m \u001b[39mif\u001b[39;00m \u001b[39mnot\u001b[39;00m \u001b[39misinstance\u001b[39m(res, matrix):\n\u001b[1;32m    405\u001b[0m     \u001b[39m# wrap the array, to preserve subclasses\u001b[39;00m\n\u001b[1;32m    406\u001b[0m     buff \u001b[39m=\u001b[39m res\u001b[39m.\u001b[39m__array_wrap__(buff)\n",
      "\u001b[0;31mKeyboardInterrupt\u001b[0m: "
     ]
    }
   ],
   "source": [
    "res_gd = GD_log_reg(l, grad_l2, w0, (X_hat, y_train), 0., 0., 500, alpha=0.4)\n",
    "w_k, f_val, err_val = res_gd"
   ]
  },
  {
   "cell_type": "code",
   "execution_count": null,
   "metadata": {},
   "outputs": [],
   "source": [
    "X_test_hat = np.concatenate((np.ones((1, X_test.shape[1])), X_test), axis=0)\n",
    "predictions = sigmoid(X_test_hat.T @ w_k)\n",
    "y_predicted = np.apply_along_axis(lambda x: 9 if x < 0.5 else 0, 1, predictions).reshape((-1,1))\n",
    "compute_accuracy(y_test, y_predicted)"
   ]
  },
  {
   "cell_type": "code",
   "execution_count": null,
   "metadata": {},
   "outputs": [],
   "source": [
    "print(f\"class 0: {y_predicted[y_predicted == 0].shape[0]}\\nclass 9: {y_predicted[y_predicted == 9].shape[0]}\")"
   ]
  },
  {
   "cell_type": "code",
   "execution_count": null,
   "metadata": {},
   "outputs": [],
   "source": []
  }
 ],
 "metadata": {
  "kernelspec": {
   "display_name": "Python 3.10.8 64-bit",
   "language": "python",
   "name": "python3"
  },
  "language_info": {
   "codemirror_mode": {
    "name": "ipython",
    "version": 3
   },
   "file_extension": ".py",
   "mimetype": "text/x-python",
   "name": "python",
   "nbconvert_exporter": "python",
   "pygments_lexer": "ipython3",
   "version": "3.10.8"
  },
  "orig_nbformat": 4,
  "vscode": {
   "interpreter": {
    "hash": "b0fa6594d8f4cbf19f97940f81e996739fb7646882a419484c72d19e05852a7e"
   }
  }
 },
 "nbformat": 4,
 "nbformat_minor": 2
}
