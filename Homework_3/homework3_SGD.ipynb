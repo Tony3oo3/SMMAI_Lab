{
 "cells": [
  {
   "cell_type": "markdown",
   "metadata": {},
   "source": [
    "# Homework 3\n",
    "### Optimization with Stochastic Gradient Descent"
   ]
  },
  {
   "cell_type": "code",
   "execution_count": 376,
   "metadata": {},
   "outputs": [],
   "source": [
    "import numpy as np\n",
    "import matplotlib.pylab as plt\n",
    "\n",
    "from math import ceil"
   ]
  },
  {
   "cell_type": "code",
   "execution_count": 377,
   "metadata": {},
   "outputs": [],
   "source": [
    "def SGD(l, grad_l, w0, data, batch_size, n_epochs, alpha=0.01):\n",
    "    \"\"\"\n",
    "        Arguments:\n",
    "            l: the function l(w; D) we want to optimize. It is supposed to be a Python function, not an array.\n",
    "            grad_l: the gradient of l(w; D). It is supposed to be a Python function, not an array.\n",
    "            w0: an n-dimensional array which represents the initial iterate. By default, it should be randomly sampled.\n",
    "            data: a tuple (x, y) that contains the two arrays x and y, where x is the input data, y is the output data.\n",
    "            batch_size: an integer. The dimension of each batch. Should be a divisor of the number of data.\n",
    "            n_epochs: an integer. The number of epochs you want to repeat the iterations.\n",
    "        Returns:\n",
    "            w: an array that contains the value of w_k FOR EACH iterate w_k (not only the latter).\n",
    "            f_val: an array that contains the value of l(w_k; data) FOR EACH iterate w_k ONLY after each epoch.\n",
    "            grads: an array that contains the value of grad_l(w_k; data) FOR EACH iterate w_k ONLY after each epoch.\n",
    "            err: an array the contains the value of ||grad_l(w_k; data)||_2 FOR EACH iterate w_k ONLY after each epoch.\n",
    "    \"\"\"\n",
    "    X, Y = data\n",
    "    d, N = X.shape\n",
    "\n",
    "    # number of epochs * iterations per epoch\n",
    "    tot_iterations = ceil(n_epochs * ceil(N / batch_size))\n",
    "\n",
    "    w = np.zeros(tot_iterations + 1, dtype=object)\n",
    "    f_val = np.zeros(n_epochs, dtype=object)\n",
    "    grads = np.zeros(n_epochs, dtype=object)\n",
    "    err = np.zeros(n_epochs, dtype=object)\n",
    "\n",
    "    w[0] = w0\n",
    "    k = 0\n",
    "\n",
    "    for epoch in range(n_epochs):\n",
    "\n",
    "        # Shuffle the dataset\n",
    "        rng = np.random.default_rng()\n",
    "        D = np.concatenate((Y, X.T), axis=1)\n",
    "        rng.shuffle(D)\n",
    "        X = D[:, 1:].T\n",
    "        Y = D[:, 0].reshape(-1, 1)\n",
    "        \n",
    "        batches_num = ceil(N / batch_size)\n",
    "        for batch in range(batches_num):\n",
    "            # print(f\"\\tBatch {batch}\")\n",
    "            Mx = X[:, batch*batch_size:(batch+1)*batch_size]\n",
    "            My = Y[batch*batch_size:(batch+1)*batch_size]\n",
    "            M = (Mx, My)\n",
    "            # Gradient descent step\n",
    "            k = (epoch * batches_num) + batch\n",
    "            w[k+1] = w[k] - alpha * grad_l(w[k], M) \n",
    "\n",
    "        f_val[epoch] = l(w[k+1], data)\n",
    "        grads[epoch] = grad_l(w[k+1], data)\n",
    "        \n",
    "        err[epoch] = np.linalg.norm(grads[epoch])\n",
    "        print(f\"Epoch {epoch} \\t-->\", err[epoch])\n",
    "    \n",
    "    return w, f_val, grads, err"
   ]
  },
  {
   "cell_type": "code",
   "execution_count": 378,
   "metadata": {},
   "outputs": [
    {
     "data": {
      "text/plain": [
       "((42000, 784), (42000,))"
      ]
     },
     "execution_count": 378,
     "metadata": {},
     "output_type": "execute_result"
    }
   ],
   "source": [
    "# Load MINST dataset\n",
    "import pandas as pd\n",
    "df = pd.read_csv(\"../data/data.csv\")\n",
    "data_raw = np.array(df)\n",
    "X_raw = data_raw[:, 1:]\n",
    "y_raw = data_raw[:, 0]\n",
    "X_raw.shape, y_raw.shape"
   ]
  },
  {
   "cell_type": "code",
   "execution_count": 379,
   "metadata": {},
   "outputs": [
    {
     "data": {
      "text/plain": [
       "((8314, 784), (8314,))"
      ]
     },
     "execution_count": 379,
     "metadata": {},
     "output_type": "execute_result"
    }
   ],
   "source": [
    "digit_list = [6, 2]\n",
    "d1 = digit_list[0]\n",
    "d2 = digit_list[1]\n",
    "\n",
    "mask = [y_i in digit_list for y_i in y_raw]\n",
    "map_f = lambda x: 0 if x == d1 else 1\n",
    "y = np.array([map_f(x) for x in y_raw[mask]])\n",
    "\n",
    "X = X_raw[mask, :]\n",
    "X.shape, y.shape"
   ]
  },
  {
   "cell_type": "code",
   "execution_count": 380,
   "metadata": {},
   "outputs": [
    {
     "data": {
      "text/plain": [
       "((784, 4157), (784, 4157), (4157, 1), (4157, 1))"
      ]
     },
     "execution_count": 380,
     "metadata": {},
     "output_type": "execute_result"
    }
   ],
   "source": [
    "from sklearn.model_selection import train_test_split\n",
    "\n",
    "X_train, X_test, y_train, y_test = train_test_split(X, y, train_size=0.5, shuffle=False)\n",
    "X_train = X_train.T\n",
    "X_test = X_test.T\n",
    "y_train = y_train.reshape((-1, 1))\n",
    "y_test = y_test.reshape((-1, 1))\n",
    "X_train.shape, X_test.shape, y_train.shape, y_test.shape"
   ]
  },
  {
   "cell_type": "code",
   "execution_count": 381,
   "metadata": {},
   "outputs": [],
   "source": [
    "def sigmoid(x):\n",
    "    return 1./(1.+np.exp(-x))\n",
    "\n",
    "def der_sigmoid(x):\n",
    "    return sigmoid(x) * (1 - sigmoid(x))"
   ]
  },
  {
   "cell_type": "code",
   "execution_count": 382,
   "metadata": {},
   "outputs": [],
   "source": [
    "def l(w, D):\n",
    "    X, y = D\n",
    "    d, N = X.shape\n",
    "    return np.sum(np.power(np.linalg.norm(sigmoid(X.T @ w) - y, axis=1), 2))/N\n",
    "\n",
    "def grad_l(w, D):\n",
    "    X, y = D\n",
    "    d, N = X.shape\n",
    "    \n",
    "    return X@(sigmoid(X.T@w)*(1-sigmoid(X.T@w))*(sigmoid(X.T@w) - y))/N"
   ]
  },
  {
   "cell_type": "code",
   "execution_count": 383,
   "metadata": {},
   "outputs": [],
   "source": [
    "# init weights\n",
    "rng = np.random.default_rng()\n",
    "# w0 = rng.normal(0, 1, size=(X_train.shape[0] + 1, 1))\n",
    "w0 = np.ones((X_train.shape[0] + 1, 1)) * 10e-5\n",
    "X_hat = np.concatenate((np.ones((1, X_train.shape[1])), X_train), axis=0)"
   ]
  },
  {
   "cell_type": "code",
   "execution_count": 384,
   "metadata": {},
   "outputs": [
    {
     "name": "stdout",
     "output_type": "stream",
     "text": [
      "Epoch 0 \t--> 4.470162955901304\n",
      "Epoch 1 \t--> 4.077032613852765\n",
      "Epoch 2 \t--> 1.8981210792113319\n",
      "Epoch 3 \t--> 2.046794224394193\n",
      "Epoch 4 \t--> 1.4532566744540778\n",
      "Epoch 5 \t--> 2.8878273030033723\n",
      "Epoch 6 \t--> 2.807373518470012\n",
      "Epoch 7 \t--> 1.005166834677032\n",
      "Epoch 8 \t--> 0.95302865586006\n",
      "Epoch 9 \t--> 1.8223826147444326\n",
      "Epoch 10 \t--> 1.073991635593686\n",
      "Epoch 11 \t--> 0.9578957364915742\n",
      "Epoch 12 \t--> 0.7070472226196783\n",
      "Epoch 13 \t--> 1.163830455564552\n",
      "Epoch 14 \t--> 0.9167374728637655\n",
      "Epoch 15 \t--> 0.5984637494423394\n",
      "Epoch 16 \t--> 0.5909317050327516\n",
      "Epoch 17 \t--> 1.9906885671603387\n",
      "Epoch 18 \t--> 0.644668432537105\n",
      "Epoch 19 \t--> 0.5166311966370094\n",
      "Epoch 20 \t--> 0.7450214403369347\n",
      "Epoch 21 \t--> 1.086632565561707\n",
      "Epoch 22 \t--> 0.6781308993005989\n",
      "Epoch 23 \t--> 0.9806152672657575\n",
      "Epoch 24 \t--> 0.5887609009589717\n",
      "Epoch 25 \t--> 0.4871712509791245\n",
      "Epoch 26 \t--> 1.0990694808238803\n",
      "Epoch 27 \t--> 0.45297437650050226\n",
      "Epoch 28 \t--> 0.5430793695685555\n",
      "Epoch 29 \t--> 0.9784632442321871\n",
      "Epoch 30 \t--> 0.4309146162291963\n",
      "Epoch 31 \t--> 0.7131186479497984\n",
      "Epoch 32 \t--> 0.5343811735220868\n",
      "Epoch 33 \t--> 1.120127148553747\n",
      "Epoch 34 \t--> 0.43092215341498813\n",
      "Epoch 35 \t--> 0.5111597631092404\n",
      "Epoch 36 \t--> 0.3690004373534807\n",
      "Epoch 37 \t--> 1.011752319674751\n",
      "Epoch 38 \t--> 0.7083950760591041\n",
      "Epoch 39 \t--> 0.5862132515716004\n",
      "Epoch 40 \t--> 0.3313284305091025\n",
      "Epoch 41 \t--> 1.1413374619022019\n",
      "Epoch 42 \t--> 0.3671888738392457\n",
      "Epoch 43 \t--> 0.31883399793400546\n",
      "Epoch 44 \t--> 0.32552018810172756\n",
      "Epoch 45 \t--> 1.0122523710314904\n",
      "Epoch 46 \t--> 1.1582025634341377\n",
      "Epoch 47 \t--> 0.5283433504917144\n",
      "Epoch 48 \t--> 0.3241580093479619\n",
      "Epoch 49 \t--> 0.4118221825548172\n",
      "Epoch 50 \t--> 0.5154583786218011\n",
      "Epoch 51 \t--> 0.7483130364622932\n",
      "Epoch 52 \t--> 0.7740122076046969\n",
      "Epoch 53 \t--> 0.2828053964823084\n",
      "Epoch 54 \t--> 0.7042062029844093\n",
      "Epoch 55 \t--> 0.925399807143014\n",
      "Epoch 56 \t--> 0.47342718507355525\n",
      "Epoch 57 \t--> 0.7145843279045357\n",
      "Epoch 58 \t--> 0.31060024547412435\n",
      "Epoch 59 \t--> 0.6101357348014311\n",
      "Epoch 60 \t--> 0.7632522691023064\n",
      "Epoch 61 \t--> 0.546081873355435\n",
      "Epoch 62 \t--> 0.40988364331818194\n",
      "Epoch 63 \t--> 0.28277694448262497\n",
      "Epoch 64 \t--> 0.27326600633720294\n",
      "Epoch 65 \t--> 0.28068191662284897\n",
      "Epoch 66 \t--> 0.376170035074815\n",
      "Epoch 67 \t--> 1.0945897676621228\n",
      "Epoch 68 \t--> 0.4138069240087078\n",
      "Epoch 69 \t--> 0.24959715421979756\n",
      "Epoch 70 \t--> 0.3984494109116106\n",
      "Epoch 71 \t--> 0.24385752142333286\n",
      "Epoch 72 \t--> 0.6855939316006516\n",
      "Epoch 73 \t--> 0.283298743539237\n",
      "Epoch 74 \t--> 0.3843658071115643\n",
      "Epoch 75 \t--> 1.6519236563443722\n",
      "Epoch 76 \t--> 0.3258221637228086\n",
      "Epoch 77 \t--> 1.0098273080063953\n",
      "Epoch 78 \t--> 0.7935431484238655\n",
      "Epoch 79 \t--> 0.2659324356915725\n",
      "Epoch 80 \t--> 0.4727229480609265\n",
      "Epoch 81 \t--> 0.24312797336031036\n",
      "Epoch 82 \t--> 0.6187529157567825\n",
      "Epoch 83 \t--> 0.7490001034224285\n",
      "Epoch 84 \t--> 0.5984906726679483\n",
      "Epoch 85 \t--> 0.3362424775134868\n",
      "Epoch 86 \t--> 0.21673817973020126\n",
      "Epoch 87 \t--> 0.482759435682059\n",
      "Epoch 88 \t--> 0.9405087864378905\n",
      "Epoch 89 \t--> 0.21961565685691453\n",
      "Epoch 90 \t--> 0.20915263162031072\n",
      "Epoch 91 \t--> 0.7921026548950859\n",
      "Epoch 92 \t--> 0.27299616909391294\n",
      "Epoch 93 \t--> 0.20492413494924547\n",
      "Epoch 94 \t--> 0.26174004805139023\n",
      "Epoch 95 \t--> 0.23604312590114618\n",
      "Epoch 96 \t--> 0.21028060601449067\n",
      "Epoch 97 \t--> 0.44106894146319653\n",
      "Epoch 98 \t--> 0.5732196410657321\n",
      "Epoch 99 \t--> 0.3914127084402092\n"
     ]
    }
   ],
   "source": [
    "n_epochs = 100\n",
    "batch_size = 100\n",
    "w, f_val, grads, err = SGD(l, grad_l, w0, (X_hat, y_train), batch_size, n_epochs, alpha=0.00001)"
   ]
  },
  {
   "cell_type": "code",
   "execution_count": 397,
   "metadata": {},
   "outputs": [
    {
     "data": {
      "text/plain": [
       "[<matplotlib.lines.Line2D at 0x2f6bbbeb0>]"
      ]
     },
     "execution_count": 397,
     "metadata": {},
     "output_type": "execute_result"
    },
    {
     "data": {
      "image/png": "[encoded data removed]",
      "text/plain": [
       "<Figure size 640x480 with 1 Axes>"
      ]
     },
     "metadata": {},
     "output_type": "display_data"
    }
   ],
   "source": [
    "plt.title(\"Stochastic Gradient Descent error\")\n",
    "plt.xlabel(\"$k$\")\n",
    "plt.ylabel(\"$||\\\\nabla f(X)||_2$\")\n",
    "plt.grid()\n",
    "plt.plot([x for x in range(1, n_epochs + 1)], err)"
   ]
  },
  {
   "cell_type": "code",
   "execution_count": 386,
   "metadata": {},
   "outputs": [],
   "source": [
    "X_test_hat = np.concatenate((np.ones((1, X_test.shape[1])), X_test), axis=0)\n",
    "predictions = sigmoid(X_test_hat.T @ w[-1])\n",
    "y_predicted = np.apply_along_axis(lambda x: 0 if x < 0.5 else 1, 1, predictions).reshape((-1,1))"
   ]
  },
  {
   "cell_type": "code",
   "execution_count": 387,
   "metadata": {},
   "outputs": [],
   "source": [
    "def compute_accuracy(y_true, y_guess):\n",
    "    return (len(y_true) - np.count_nonzero(y_true - y_guess)) / len(y_true) * 100"
   ]
  },
  {
   "cell_type": "code",
   "execution_count": 388,
   "metadata": {},
   "outputs": [
    {
     "name": "stdout",
     "output_type": "stream",
     "text": [
      "SGD accuracy:\t 98.05147943228289\n"
     ]
    }
   ],
   "source": [
    "print(\"SGD accuracy:\\t\", compute_accuracy(y_predicted, y_test))"
   ]
  },
  {
   "cell_type": "code",
   "execution_count": 389,
   "metadata": {},
   "outputs": [
    {
     "name": "stdout",
     "output_type": "stream",
     "text": [
      "SGD predicted class\n",
      "class 6: 2089\n",
      "class 2: 2068\n"
     ]
    }
   ],
   "source": [
    "print(\"SGD predicted class\")\n",
    "print(f\"class {d1}: {y_predicted[y_predicted == 0].shape[0]}\\nclass {d2}: {y_predicted[y_predicted == 1].shape[0]}\")"
   ]
  },
  {
   "cell_type": "code",
   "execution_count": 390,
   "metadata": {},
   "outputs": [],
   "source": [
    "def GD_log_reg(f, grad_f, w0, D, tolf, tolx, kmax, alpha=0.1):\n",
    "    # As output, we want:\n",
    "    # x -> The stationary point\n",
    "    # f_val -> A vector containing the values of f during the iterations\n",
    "    # err_val -> A vector containing the values of ||grad_f(x_k)||\n",
    "\n",
    "    f_val = [f(w0, D)]\n",
    "    err_val = [np.linalg.norm(grad_f(w0, D))]\n",
    "    \n",
    "    # Init iteration\n",
    "    k = 0\n",
    "    x = [w0]\n",
    "    \n",
    "    rel_tol_cond = True\n",
    "    rel_inp_cond = True\n",
    "    max_it_cond = True\n",
    "    \n",
    "    while rel_tol_cond and rel_inp_cond and max_it_cond:\n",
    "        x.append(x[k] - alpha * grad_f(x[k], D))\n",
    "        f_val.append(f(x[k+1], D))\n",
    "        err_val.append(np.linalg.norm(grad_f(x[k], D)))\n",
    "        \n",
    "        k += 1\n",
    "        if(k % 100 == 0): \n",
    "            print(f\"iteration: {k}\\t-->\", err_val[-1])\n",
    "\n",
    "        rel_tol_cond = np.linalg.norm(grad_f(x[k-1], D)) > tolf * np.linalg.norm(grad_f(w0, D))\n",
    "        # We skip the first iteration\n",
    "        rel_inp_cond = True if k == 0 else np.linalg.norm(x[k] - x[k-1]) > tolx\n",
    "        max_it_cond = k < kmax\n",
    "\n",
    "    return x[k], f_val, err_val"
   ]
  },
  {
   "cell_type": "code",
   "execution_count": 391,
   "metadata": {},
   "outputs": [
    {
     "name": "stdout",
     "output_type": "stream",
     "text": [
      "iteration: 100\t--> 13.744131323977697\n",
      "iteration: 200\t--> 7.568777494199155\n",
      "iteration: 300\t--> 5.41723195408685\n"
     ]
    }
   ],
   "source": [
    "max_it = 300\n",
    "res_gd = GD_log_reg(l, grad_l, w0, (X_hat, y_train), 0., 0., max_it, alpha=1e-6)\n",
    "w_k, f_val, err_val = res_gd"
   ]
  },
  {
   "cell_type": "code",
   "execution_count": 395,
   "metadata": {},
   "outputs": [
    {
     "data": {
      "text/plain": [
       "[<matplotlib.lines.Line2D at 0x2f6b78580>]"
      ]
     },
     "execution_count": 395,
     "metadata": {},
     "output_type": "execute_result"
    },
    {
     "data": {
      "image/png": "[encoded data removed]",
      "text/plain": [
       "<Figure size 640x480 with 1 Axes>"
      ]
     },
     "metadata": {},
     "output_type": "display_data"
    }
   ],
   "source": [
    "plt.title(\"Gradient Descent error\")\n",
    "plt.xlabel(\"$k$\")\n",
    "plt.ylabel(\"$||\\\\nabla f(X)||_2$\")\n",
    "plt.grid()\n",
    "plt.plot([x for x in range(0, max_it + 1)], err_val)"
   ]
  },
  {
   "cell_type": "code",
   "execution_count": 393,
   "metadata": {},
   "outputs": [
    {
     "name": "stdout",
     "output_type": "stream",
     "text": [
      "GD accuracy:\t 96.31946114986769\n"
     ]
    }
   ],
   "source": [
    "X_test_hat = np.concatenate((np.ones((1, X_test.shape[1])), X_test), axis=0)\n",
    "predictions = sigmoid(X_test_hat.T @ w_k)\n",
    "y_predicted = np.apply_along_axis(lambda x: 0 if x < 0.5 else 1, 1, predictions).reshape((-1,1))\n",
    "print(\"GD accuracy:\\t\", compute_accuracy(y_test, y_predicted))"
   ]
  },
  {
   "cell_type": "code",
   "execution_count": 394,
   "metadata": {},
   "outputs": [
    {
     "name": "stdout",
     "output_type": "stream",
     "text": [
      "GD predicted class\n",
      "class 6: 2077\n",
      "class 2: 2080\n"
     ]
    }
   ],
   "source": [
    "print(\"GD predicted class\")\n",
    "print(f\"class {d1}: {y_predicted[y_predicted == 0].shape[0]}\\nclass {d2}: {y_predicted[y_predicted == 1].shape[0]}\")"
   ]
  }
 ],
 "metadata": {
  "kernelspec": {
   "display_name": "Python 3.10.8 64-bit",
   "language": "python",
   "name": "python3"
  },
  "language_info": {
   "codemirror_mode": {
    "name": "ipython",
    "version": 3
   },
   "file_extension": ".py",
   "mimetype": "text/x-python",
   "name": "python",
   "nbconvert_exporter": "python",
   "pygments_lexer": "ipython3",
   "version": "3.10.8"
  },
  "orig_nbformat": 4,
  "vscode": {
   "interpreter": {
    "hash": "b0fa6594d8f4cbf19f97940f81e996739fb7646882a419484c72d19e05852a7e"
   }
  }
 },
 "nbformat": 4,
 "nbformat_minor": 2
}
